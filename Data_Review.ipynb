{
 "cells": [
  {
   "cell_type": "code",
   "execution_count": 20,
   "metadata": {},
   "outputs": [],
   "source": [
    "def histogram(string_list):\n",
    "\n",
    "    \"String_list: list of different strings\"\n",
    "    \"returns new dictionary\"\n",
    "\n",
    "    str_dict = dict()\n",
    "\n",
    "    for i in string_list:\n",
    "        if i in str_dict:\n",
    "            str_dict[i] += 1\n",
    "        else:\n",
    "            str_dict[i] = 1\n",
    "    \n",
    "    return str_dict"
   ]
  },
  {
   "cell_type": "code",
   "execution_count": 23,
   "metadata": {},
   "outputs": [
    {
     "name": "stdout",
     "output_type": "stream",
     "text": [
      "{'word': 3, 'text': 1, 'string': 1}\n"
     ]
    }
   ],
   "source": [
    "# string_list =  ['a', 'c', 'c', 'b']\n",
    "string_list = ['word', 'text', 'word', 'word', 'string'] \n",
    "print(histogram(string_list))"
   ]
  },
  {
   "cell_type": "code",
   "execution_count": 36,
   "metadata": {},
   "outputs": [],
   "source": [
    "def  reverse_tuple(tuple_set1, tuple_set2):\n",
    "\n",
    "    \"Tuple_set1 and 2 sare two different sets of tuples \"\n",
    "    \"Returns True or False\"\n",
    "\n",
    "    for tup in tuple_set1:\n",
    "        first, second = tup\n",
    "        newtup = (second,first)\n",
    "        if newtup in tuple_set2:\n",
    "            return True\n",
    "        else:\n",
    "            return False\n",
    "\n",
    "    "
   ]
  },
  {
   "cell_type": "code",
   "execution_count": 37,
   "metadata": {},
   "outputs": [
    {
     "data": {
      "text/plain": [
       "True"
      ]
     },
     "execution_count": 37,
     "metadata": {},
     "output_type": "execute_result"
    }
   ],
   "source": [
    "reverse_tuple({(1, 2), (3, 4)}, {(2, 1), (5, 6)})"
   ]
  }
 ],
 "metadata": {
  "kernelspec": {
   "display_name": "Python 3",
   "language": "python",
   "name": "python3"
  },
  "language_info": {
   "codemirror_mode": {
    "name": "ipython",
    "version": 3
   },
   "file_extension": ".py",
   "mimetype": "text/x-python",
   "name": "python",
   "nbconvert_exporter": "python",
   "pygments_lexer": "ipython3",
   "version": "3.10.13"
  }
 },
 "nbformat": 4,
 "nbformat_minor": 2
}
